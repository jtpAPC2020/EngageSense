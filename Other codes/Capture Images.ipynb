{
 "cells": [
  {
   "cell_type": "code",
   "execution_count": 5,
   "metadata": {},
   "outputs": [],
   "source": [
    "import cv2\n",
    "import random\n",
    "import os"
   ]
  },
  {
   "cell_type": "code",
   "execution_count": 6,
   "metadata": {},
   "outputs": [],
   "source": [
    "# Define emotions, head poses\n",
    "emotions = ['Angry', 'Disgust', 'Fear', 'Happy', 'Neutral', 'Sad', 'Surprise']\n",
    "head_poses = ['Center', 'Up', 'Left', 'Right', 'Down']\n"
   ]
  },
  {
   "cell_type": "code",
   "execution_count": 7,
   "metadata": {},
   "outputs": [],
   "source": [
    "# Create a folder for saving images if it doesn't exist\n",
    "save_folder = 'Researchers Pictures/Name'\n",
    "os.makedirs(save_folder, exist_ok=True)"
   ]
  },
  {
   "cell_type": "code",
   "execution_count": 8,
   "metadata": {},
   "outputs": [
    {
     "name": "stdout",
     "output_type": "stream",
     "text": [
      "Image captured and saved as Researchers Pictures/Patricia\\PM_Angry_Center_Open.jpeg\n",
      "Image captured and saved as Researchers Pictures/Patricia\\PM_Angry_Up_Open.jpeg\n",
      "Image captured and saved as Researchers Pictures/Patricia\\PM_Angry_Left_Open.jpeg\n",
      "Image captured and saved as Researchers Pictures/Patricia\\PM_Angry_Right_Open.jpeg\n",
      "Image captured and saved as Researchers Pictures/Patricia\\PM_Angry_Down_Semi-Open.jpeg\n",
      "Image captured and saved as Researchers Pictures/Patricia\\PM_Disgust_Center_Semi-Open.jpeg\n",
      "Image captured and saved as Researchers Pictures/Patricia\\PM_Disgust_Up_Open.jpeg\n",
      "Image captured and saved as Researchers Pictures/Patricia\\PM_Disgust_Left_Semi-Open.jpeg\n",
      "Image captured and saved as Researchers Pictures/Patricia\\PM_Disgust_Right_Closed.jpeg\n",
      "Image captured and saved as Researchers Pictures/Patricia\\PM_Disgust_Down_Open.jpeg\n",
      "Image captured and saved as Researchers Pictures/Patricia\\PM_Fear_Center_Open.jpeg\n",
      "Image captured and saved as Researchers Pictures/Patricia\\PM_Fear_Up_Semi-Open.jpeg\n",
      "Image captured and saved as Researchers Pictures/Patricia\\PM_Fear_Left_Semi-Open.jpeg\n",
      "Image captured and saved as Researchers Pictures/Patricia\\PM_Fear_Right_Closed.jpeg\n",
      "Image captured and saved as Researchers Pictures/Patricia\\PM_Fear_Down_Semi-Open.jpeg\n",
      "Image captured and saved as Researchers Pictures/Patricia\\PM_Happy_Center_Semi-Open.jpeg\n",
      "Image captured and saved as Researchers Pictures/Patricia\\PM_Happy_Up_Open.jpeg\n",
      "Image captured and saved as Researchers Pictures/Patricia\\PM_Happy_Left_Open.jpeg\n",
      "Image captured and saved as Researchers Pictures/Patricia\\PM_Happy_Right_Open.jpeg\n",
      "Image captured and saved as Researchers Pictures/Patricia\\PM_Happy_Down_Open.jpeg\n",
      "Image captured and saved as Researchers Pictures/Patricia\\PM_Neutral_Center_Open.jpeg\n",
      "Image captured and saved as Researchers Pictures/Patricia\\PM_Neutral_Up_Closed.jpeg\n",
      "Image captured and saved as Researchers Pictures/Patricia\\PM_Neutral_Left_Open.jpeg\n",
      "Image captured and saved as Researchers Pictures/Patricia\\PM_Neutral_Right_Semi-Open.jpeg\n",
      "Image captured and saved as Researchers Pictures/Patricia\\PM_Neutral_Down_Open.jpeg\n",
      "Image captured and saved as Researchers Pictures/Patricia\\PM_Sad_Center_Open.jpeg\n",
      "Image captured and saved as Researchers Pictures/Patricia\\PM_Sad_Up_Closed.jpeg\n",
      "Image captured and saved as Researchers Pictures/Patricia\\PM_Sad_Left_Semi-Open.jpeg\n",
      "Image captured and saved as Researchers Pictures/Patricia\\PM_Sad_Right_Open.jpeg\n",
      "Image captured and saved as Researchers Pictures/Patricia\\PM_Sad_Down_Open.jpeg\n",
      "Image captured and saved as Researchers Pictures/Patricia\\PM_Surprise_Center_Semi-Open.jpeg\n",
      "Image captured and saved as Researchers Pictures/Patricia\\PM_Surprise_Up_Open.jpeg\n",
      "Image captured and saved as Researchers Pictures/Patricia\\PM_Surprise_Left_Open.jpeg\n",
      "Image captured and saved as Researchers Pictures/Patricia\\PM_Surprise_Right_Semi-Open.jpeg\n",
      "Image captured and saved as Researchers Pictures/Patricia\\PM_Surprise_Down_Open.jpeg\n"
     ]
    }
   ],
   "source": [
    "# Initialize the camera\n",
    "cap = cv2.VideoCapture(0)\n",
    "\n",
    "quit_flag = False  # Flag to check if 'q' has been pressed\n",
    "\n",
    "for emotion in emotions:\n",
    "    for head_pose in head_poses:\n",
    "        # Initialize a copy of the eye openness levels list for each combination\n",
    "        eye_openness_levels = ['Open'] * 15 + ['Semi-Open'] * 15 + ['Closed'] * 5\n",
    "        # Randomly select an eye openness level\n",
    "        eye_openness = random.choice(eye_openness_levels)\n",
    "        eye_openness_levels.remove(eye_openness)  # Remove the selected openness level \n",
    "        \n",
    "        while True:\n",
    "            # Read a frame from the camera\n",
    "            ret, frame = cap.read()\n",
    "\n",
    "            # Display the combination of emotion, head pose, and eye openness on the window\n",
    "            combo = f'{emotion} {head_pose} {eye_openness}'\n",
    "            cv2.putText(frame, combo, (50, 50), cv2.FONT_HERSHEY_SIMPLEX, 1, (0, 0, 255), 2)\n",
    "\n",
    "            # Display the frame\n",
    "            cv2.imshow('Capture Image', frame)\n",
    "\n",
    "            # Capture an image when 'c' is pressed\n",
    "            key = cv2.waitKey(1)\n",
    "            if key == ord('c'):\n",
    "                # Generate the file name with the folder path\n",
    "                filename = os.path.join(save_folder, f'PM_{combo.replace(\" \", \"_\")}.jpeg')\n",
    "                \n",
    "                # Save the image\n",
    "                cv2.imwrite(filename, frame)\n",
    "                print(f'Image captured and saved as {filename}')\n",
    "                break  # Exit the loop to capture the next combination\n",
    "        \n",
    "            # Quit the program when 'q' is pressed\n",
    "            elif key == ord('q'):\n",
    "                quit_flag = True\n",
    "                break\n",
    "\n",
    "        if quit_flag:\n",
    "            break  # Exit the outer loop to end the program\n",
    "    if quit_flag:\n",
    "        break  # Exit the outer loop to end the program\n",
    "\n",
    "# Release the camera and close the OpenCV window\n",
    "cap.release()\n",
    "cv2.destroyAllWindows()"
   ]
  }
 ],
 "metadata": {
  "kernelspec": {
   "display_name": "Python 3",
   "language": "python",
   "name": "python3"
  },
  "language_info": {
   "codemirror_mode": {
    "name": "ipython",
    "version": 3
   },
   "file_extension": ".py",
   "mimetype": "text/x-python",
   "name": "python",
   "nbconvert_exporter": "python",
   "pygments_lexer": "ipython3",
   "version": "3.11.2"
  },
  "orig_nbformat": 4
 },
 "nbformat": 4,
 "nbformat_minor": 2
}
